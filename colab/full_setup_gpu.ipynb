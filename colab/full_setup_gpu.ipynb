# AmritCore V2 - Local GPU Image Generation Setup

# Purpose: This script is designed to be the first script run on the user's new, powerful laptop
# to install a local, self-contained Stable Diffusion image pipeline.
# Note: This requires a powerful NVIDIA GPU (which the user is planning to purchase).

# --- Installation and Setup ---
!pip install diffusers transformers accelerate torch

import torch
from diffusers import StableDiffusionPipeline
import os
from PIL import Image

# --- Step 1: Define the Image Generation Node ---
def generate_local_ai_image(prompt, filename):
    
    # Using the standard, high-quality Stable Diffusion model
    model_id = "runwayml/stable-diffusion-v1-5"
    
    try:
        print(f"Loading Model: {model_id}...")
        
        # We assume the laptop has a working GPU (CUDA)
        pipeline = StableDiffusionPipeline.from_pretrained(model_id, torch_dtype=torch.float16)
        pipeline = pipeline.to("cuda")

        print("Generating High-Quality Character Visual...")
        
        # Use a detailed prompt for the first scene's main character
        generated_image = pipeline(prompt).images[0]
        
        generated_image.save(filename)
        print(f"SUCCESS: High-quality image saved as {filename}")
        return True

    except Exception as e:
        print(f"FATAL ERROR: Could not run GPU pipeline. Check GPU drivers and VRAM. Error: {e}")
        return False

# --- Step 2: Define the Prompt and Run ---
# The prompt for the first character, Krishna
KRISHNA_PROMPT = "A photorealistic portrait of a young, innocent Punjabi farmer's son named Krishna, dressed in white Kurta Pyjama. Standing by a brick well in 1940s Punjab. Cinematic lighting, high detail."
OUTPUT_FILENAME = "assets/visuals/krishna_hq_portrait.png"

# Run the local GPU generation
if generate_local_ai_image(KRISHNA_PROMPT, OUTPUT_FILENAME):
    print("\n--- AMRIT CORE V2: LOCAL BUILD READY ---")
    print("The local image pipeline is tested and functional. Ready for the full build!")
else:
    print("\n--- AMRIT CORE V2: LOCAL BUILD FAILED ---")
    print("Check your new laptop's GPU drivers. The software is ready, but the hardware needs checking.")

